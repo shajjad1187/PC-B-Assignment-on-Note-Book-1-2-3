{
  "nbformat": 4,
  "nbformat_minor": 0,
  "metadata": {
    "colab": {
      "name": "AI lab final q1-q3.ipynb",
      "provenance": [],
      "authorship_tag": "ABX9TyN5FMxsMsA26jm76dm+GlE9",
      "include_colab_link": true
    },
    "kernelspec": {
      "name": "python3",
      "display_name": "Python 3"
    }
  },
  "cells": [
    {
      "cell_type": "markdown",
      "metadata": {
        "id": "view-in-github",
        "colab_type": "text"
      },
      "source": [
        "<a href=\"https://colab.research.google.com/github/shajjad1187/PC-B-Assignment-on-Note-Book-1-2-3/blob/main/AI_lab_final_q1_q3.ipynb\" target=\"_parent\"><img src=\"https://colab.research.google.com/assets/colab-badge.svg\" alt=\"Open In Colab\"/></a>"
      ]
    },
    {
      "cell_type": "markdown",
      "metadata": {
        "id": "JwKDm907q1EY"
      },
      "source": [
        "Stock Predictions"
      ]
    },
    {
      "cell_type": "code",
      "metadata": {
        "id": "XjtV-6sUn8Ok"
      },
      "source": [
        "import numpy as np\r\n",
        "import math\r\n",
        "def printTransactions(m, k, d, name, owned, prices):\r\n",
        "    slope_list=[]\r\n",
        "    for i in range(k):\r\n",
        "        x=np.array([1.0,2.0,3.0,4.0,5.0])\r\n",
        "        y= np.array(prices[i])\r\n",
        "        A = np.vstack([x, np.ones(len(x))]).T\r\n",
        "        slope, constat = np.linalg.lstsq(A, y)[0]\r\n",
        "        slope_list.append(slope)\r\n",
        "        \r\n",
        "    sort_slope = sorted(slope_list)\r\n",
        "    amount_remaining= m\r\n",
        "    trans={}\r\n",
        "    for j in reversed(range(k)):\r\n",
        "        index_slope = slope_list.index(sort_slope[j])\r\n",
        "        if sort_slope[j]<=0 and amount_remaining>=prices[index_slope][-1]:\r\n",
        "\r\n",
        "            num_stock =math.floor(amount_remaining/prices[index_slope][-1])\r\n",
        "            amount_remaining = amount_remaining - prices[index_slope][-1]*num_stock\r\n",
        "            trans[name[index_slope]] = names[index_slope]+' BUY ' + str(int(num_stock))\r\n",
        "            \r\n",
        "    for j in range(k):\r\n",
        "        index_slope = slope_list.index(sort_slope[j])\r\n",
        "        if sort_slope[j]>0 and owned[index_slope]>0:\r\n",
        "            trans[name[index_slope]] = names[index_slope]+' SELL ' + str(owned[index_slope]) \r\n",
        "    print len(trans.keys())\r\n",
        "    for x in trans:\r\n",
        "        print trans[x]\r\n",
        "        \r\n",
        "if __name__ == '__main__':\r\n",
        "    m, k, d = [float(i) for i in raw_input().strip().split()]\r\n",
        "    k = int(k)\r\n",
        "    d = int(d)\r\n",
        "    names = []\r\n",
        "    owned = []\r\n",
        "    prices = []\r\n",
        "    for data in range(k):\r\n",
        "        temp = raw_input().strip().split()\r\n",
        "        names.append(temp[0])\r\n",
        "        owned.append(int(temp[1]))\r\n",
        "        prices.append([float(i) for i in temp[2:7]])\r\n",
        "\r\n",
        "    printTransactions(m, k, d, names, owned, prices)"
      ],
      "execution_count": null,
      "outputs": []
    },
    {
      "cell_type": "markdown",
      "metadata": {
        "id": "igHB9Ss6q89I"
      },
      "source": [
        "Laptop Battery Life"
      ]
    },
    {
      "cell_type": "code",
      "metadata": {
        "id": "spmT9Zx4oNzL"
      },
      "source": [
        "#!/bin/python\r\n",
        "import math\r\n",
        "import os\r\n",
        "import random\r\n",
        "import re\r\n",
        "import sys\r\n",
        "\r\n",
        "def bat_last(time_charged):\r\n",
        "    if time_charged > 4:\r\n",
        "        return 8\r\n",
        "    else:\r\n",
        "        return round(time_charged * 2, 2)\r\n",
        "\r\n",
        "if __name__ == '__main__':\r\n",
        "    time_charged = float(input())\r\n",
        "    print(bat_last(time_charged))"
      ],
      "execution_count": null,
      "outputs": []
    },
    {
      "cell_type": "markdown",
      "metadata": {
        "id": "DIHUznyCrDEZ"
      },
      "source": [
        "Missing Stock Prices"
      ]
    },
    {
      "cell_type": "code",
      "metadata": {
        "id": "2AM72mcMofWL"
      },
      "source": [
        "import sys\r\n",
        "from scipy.interpolate import UnivariateSpline\r\n",
        "import numpy as np\r\n",
        "\r\n",
        "n = int(sys.stdin.readline())\r\n",
        "\r\n",
        "raw_prices = []\r\n",
        "\r\n",
        "for i in range(0, n):\r\n",
        "    line = sys.stdin.readline()\r\n",
        "    timestamp, price = line.split(\"\\t\")\r\n",
        "    raw_prices.append(price)\r\n",
        "\r\n",
        "prices_ind = []\r\n",
        "missing_prices_ind = []\r\n",
        "prices = []\r\n",
        "\r\n",
        "for i in range(0, n):\r\n",
        "    if 'Missing' in raw_prices[i]:\r\n",
        "        missing_prices_ind.append(i)\r\n",
        "    else:\r\n",
        "        prices_ind.append(i)\r\n",
        "        prices.append(float(raw_prices[i]))\r\n",
        "\r\n",
        "spline = UnivariateSpline(np.array(prices_ind), np.array(prices), s=2)\r\n",
        "for i in missing_prices_ind:\r\n",
        "    print(spline(i))"
      ],
      "execution_count": null,
      "outputs": []
    }
  ]
}