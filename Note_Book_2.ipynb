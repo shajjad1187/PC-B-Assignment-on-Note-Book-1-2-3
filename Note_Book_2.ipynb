{
  "nbformat": 4,
  "nbformat_minor": 0,
  "metadata": {
    "colab": {
      "name": " Note Book-2.ipynb",
      "provenance": [],
      "collapsed_sections": [],
      "include_colab_link": true
    },
    "kernelspec": {
      "name": "python3",
      "display_name": "Python 3"
    }
  },
  "cells": [
    {
      "cell_type": "markdown",
      "metadata": {
        "id": "view-in-github",
        "colab_type": "text"
      },
      "source": [
        "<a href=\"https://colab.research.google.com/github/shajjad1187/PC-B-Assignment-on-Note-Book-1-2-3/blob/main/Note_Book_2.ipynb\" target=\"_parent\"><img src=\"https://colab.research.google.com/assets/colab-badge.svg\" alt=\"Open In Colab\"/></a>"
      ]
    },
    {
      "cell_type": "markdown",
      "metadata": {
        "id": "ZuTvldinFi5h"
      },
      "source": [
        "# **1.IF statement .**"
      ]
    },
    {
      "cell_type": "code",
      "metadata": {
        "id": "ehuZHqNED3W7",
        "outputId": "3340df98-341d-4382-9ec3-953de41ae453",
        "colab": {
          "base_uri": "https://localhost:8080/",
          "height": 34
        }
      },
      "source": [
        "Marks = 85\n",
        "\n",
        "if Marks>=60:\n",
        "  print(\"passed\");"
      ],
      "execution_count": null,
      "outputs": [
        {
          "output_type": "stream",
          "text": [
            "passed\n"
          ],
          "name": "stdout"
        }
      ]
    },
    {
      "cell_type": "markdown",
      "metadata": {
        "id": "Br5otQdMHKLX"
      },
      "source": [
        "# **2. If else statement .**"
      ]
    },
    {
      "cell_type": "code",
      "metadata": {
        "id": "hsthhgkOHB4E",
        "outputId": "85cf155a-33f9-4006-8b4c-db3afd2e1e79",
        "colab": {
          "base_uri": "https://localhost:8080/",
          "height": 34
        }
      },
      "source": [
        "    Marks =85\n",
        "\n",
        "    if Marks>=60:\n",
        "      print(\"passed\");\n",
        "    else:\n",
        "      print(\"fail\");"
      ],
      "execution_count": null,
      "outputs": [
        {
          "output_type": "stream",
          "text": [
            "passed\n"
          ],
          "name": "stdout"
        }
      ]
    },
    {
      "cell_type": "markdown",
      "metadata": {
        "id": "NPFBxHeiH7WH"
      },
      "source": [
        "# **3. Conditional expression .**"
      ]
    },
    {
      "cell_type": "code",
      "metadata": {
        "id": "54xtntcbH6uB",
        "outputId": "4f9b6cf4-3356-494d-93df-2bcc1651cdc3",
        "colab": {
          "base_uri": "https://localhost:8080/",
          "height": 34
        }
      },
      "source": [
        "result = ('Passed' if Marks >= 60 else 'Failed')\n",
        "print(result)"
      ],
      "execution_count": null,
      "outputs": [
        {
          "output_type": "stream",
          "text": [
            "Passed\n"
          ],
          "name": "stdout"
        }
      ]
    },
    {
      "cell_type": "markdown",
      "metadata": {
        "id": "kzPB1Q4iOYKy"
      },
      "source": [
        "# **4 . IF...elif....else statement .**"
      ]
    },
    {
      "cell_type": "code",
      "metadata": {
        "id": "wnirtIGMOUSe",
        "outputId": "bfaf612f-ee27-44e7-d7da-f420a8e8bf5e",
        "colab": {
          "base_uri": "https://localhost:8080/",
          "height": 34
        }
      },
      "source": [
        "Marks = 77\n",
        "\n",
        "if Marks>= 90:\n",
        "  print(\"A\")\n",
        "elif Marks >= 80:\n",
        "  print(\"B\")\n",
        "elif Marks>= 70:\n",
        "  print(\"C\")\n",
        "elif Marks >= 60:\n",
        "  print(\"D\")\n",
        "else:\n",
        "  print(\"F\")"
      ],
      "execution_count": null,
      "outputs": [
        {
          "output_type": "stream",
          "text": [
            "C\n"
          ],
          "name": "stdout"
        }
      ]
    },
    {
      "cell_type": "markdown",
      "metadata": {
        "id": "LbuX20aR6SdI"
      },
      "source": [
        "# **5. While Statement .**"
      ]
    },
    {
      "cell_type": "code",
      "metadata": {
        "id": "NN-QT_nQ6Rqs",
        "outputId": "30246ff9-87d8-480f-d205-b67add638f85",
        "colab": {
          "base_uri": "https://localhost:8080/",
          "height": 170
        }
      },
      "source": [
        "i1 = 1;\n",
        "while i1<10:\n",
        "  print(i1);\n",
        "  i1 = i1 + 1;"
      ],
      "execution_count": null,
      "outputs": [
        {
          "output_type": "stream",
          "text": [
            "1\n",
            "2\n",
            "3\n",
            "4\n",
            "5\n",
            "6\n",
            "7\n",
            "8\n",
            "9\n"
          ],
          "name": "stdout"
        }
      ]
    },
    {
      "cell_type": "markdown",
      "metadata": {
        "id": "DzVpFKJO8Qcq"
      },
      "source": [
        "# **6 . For statement:**"
      ]
    },
    {
      "cell_type": "code",
      "metadata": {
        "id": "wXDT40K6_2BJ",
        "outputId": "1898aa4d-49b3-4751-cefc-cf6d2c7d9db4",
        "colab": {
          "base_uri": "https://localhost:8080/",
          "height": 129
        }
      },
      "source": [
        "for left in range(7):\n",
        "\n",
        "for right in range(left,7):\n",
        "print(\"[\"+str(left)+\"|\"+str(right)+\"]\", end =\" \")\n",
        "\n",
        "print()"
      ],
      "execution_count": null,
      "outputs": [
        {
          "output_type": "error",
          "ename": "IndentationError",
          "evalue": "ignored",
          "traceback": [
            "\u001b[0;36m  File \u001b[0;32m\"<ipython-input-23-a591fd8ea999>\"\u001b[0;36m, line \u001b[0;32m3\u001b[0m\n\u001b[0;31m    for right in range(left,7):\u001b[0m\n\u001b[0m      ^\u001b[0m\n\u001b[0;31mIndentationError\u001b[0m\u001b[0;31m:\u001b[0m expected an indented block\n"
          ]
        }
      ]
    },
    {
      "cell_type": "markdown",
      "metadata": {
        "id": "JDbynsD3Bzzd"
      },
      "source": [
        "# **END**"
      ]
    }
  ]
}