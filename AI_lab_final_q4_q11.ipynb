{
  "nbformat": 4,
  "nbformat_minor": 0,
  "metadata": {
    "colab": {
      "name": "AI lab final q4-q11.ipynb",
      "provenance": [],
      "authorship_tag": "ABX9TyM1uoFkb4L98qwF6ozgFIFX",
      "include_colab_link": true
    },
    "kernelspec": {
      "name": "python3",
      "display_name": "Python 3"
    }
  },
  "cells": [
    {
      "cell_type": "markdown",
      "metadata": {
        "id": "view-in-github",
        "colab_type": "text"
      },
      "source": [
        "<a href=\"https://colab.research.google.com/github/shajjad1187/PC-B-Assignment-on-Note-Book-1-2-3/blob/main/AI_lab_final_q4_q11.ipynb\" target=\"_parent\"><img src=\"https://colab.research.google.com/assets/colab-badge.svg\" alt=\"Open In Colab\"/></a>"
      ]
    },
    {
      "cell_type": "code",
      "metadata": {
        "id": "YrtvmnSDuU-z"
      },
      "source": [
        ""
      ],
      "execution_count": null,
      "outputs": []
    },
    {
      "cell_type": "markdown",
      "metadata": {
        "id": "djoMfvZ7uati"
      },
      "source": [
        "Find a string"
      ]
    },
    {
      "cell_type": "code",
      "metadata": {
        "id": "9T04Z9PiucK4"
      },
      "source": [
        "def count_substring(string, sub_string):\r\n",
        "    c=0\r\n",
        "    for i in range(len(string)):\r\n",
        "        if string[i:].startswith(sub_string):\r\n",
        "            c =c+1\r\n",
        "    return c\r\n",
        "\r\n",
        "if __name__ == '__main__':\r\n",
        "    string = input().strip()\r\n",
        "    sub_string = input().strip()\r\n",
        "    \r\n",
        "    count = count_substring(string, sub_string)\r\n",
        "    print(count)"
      ],
      "execution_count": null,
      "outputs": []
    },
    {
      "cell_type": "markdown",
      "metadata": {
        "id": "Pmo-6rZRumfp"
      },
      "source": [
        "Python: Division"
      ]
    },
    {
      "cell_type": "code",
      "metadata": {
        "id": "bCiql3AXusoG"
      },
      "source": [
        "    a = int(input())\r\n",
        "    b = int(input())\r\n",
        "    print(a//b)\r\n",
        "    print(a/b)"
      ],
      "execution_count": null,
      "outputs": []
    },
    {
      "cell_type": "markdown",
      "metadata": {
        "id": "qQdIJWF_uwl4"
      },
      "source": [
        "Python If-Else"
      ]
    },
    {
      "cell_type": "code",
      "metadata": {
        "id": "PUMkwegpuzSh"
      },
      "source": [
        "import math\r\n",
        "import os\r\n",
        "import random\r\n",
        "import re\r\n",
        "import sys\r\n",
        "\r\n",
        "n = int(input())\r\n",
        "if n%2!=0:\r\n",
        "    print(\"Weird\")\r\n",
        "elif 2<=n<=5:\r\n",
        "    print(\"Not Weird\")\r\n",
        "elif 6<=n<=20:\r\n",
        "    print(\"Weird\")\r\n",
        "elif n>20:\r\n",
        "    print(\"Not Weird\")"
      ],
      "execution_count": null,
      "outputs": []
    },
    {
      "cell_type": "markdown",
      "metadata": {
        "id": "dvIrCmfXu2lp"
      },
      "source": [
        "Arithmetic Operators"
      ]
    },
    {
      "cell_type": "code",
      "metadata": {
        "id": "V3fu9VY_u7n7"
      },
      "source": [
        "a = int(input())\r\n",
        "b = int(input())\r\n",
        "print(a+b)\r\n",
        "print(a-b)\r\n",
        "print(a*b)"
      ],
      "execution_count": null,
      "outputs": []
    },
    {
      "cell_type": "markdown",
      "metadata": {
        "id": "cEd5J1E3u-pD"
      },
      "source": [
        "Nested Lists"
      ]
    },
    {
      "cell_type": "code",
      "metadata": {
        "id": "jX71MxfrvBZi"
      },
      "source": [
        "if __name__ == '__main__':\r\n",
        "    student = []\r\n",
        "    for _ in range(int(input())):\r\n",
        "        name = input()\r\n",
        "        score = float(input())\r\n",
        "        student.append([score,name])\r\n",
        "    \r\n",
        "    student.sort()\r\n",
        "    grade = student[0][0]\r\n",
        "  \r\n",
        "    for i in range(1,len(student)):\r\n",
        "        if grade < student[i][0]:\r\n",
        "            grade = student[i][0]\r\n",
        "            break\r\n",
        "    \r\n",
        "    for i in range(1,len(student)):\r\n",
        "        if student[i][0] == grade:\r\n",
        "            print(student[i][1])"
      ],
      "execution_count": null,
      "outputs": []
    },
    {
      "cell_type": "markdown",
      "metadata": {
        "id": "PqvLj3IzvFxp"
      },
      "source": [
        "Write a function"
      ]
    },
    {
      "cell_type": "code",
      "metadata": {
        "id": "wuPxJPj0vITR"
      },
      "source": [
        "def is_leap(year):\r\n",
        "    if year % 400 == 0:\r\n",
        "        return True\r\n",
        "    if year % 100 == 0:\r\n",
        "        return False\r\n",
        "    if year % 4 == 0:\r\n",
        "        return True\r\n",
        "    return False\r\n",
        "year = int(input())\r\n",
        "print(is_leap(year))"
      ],
      "execution_count": null,
      "outputs": []
    },
    {
      "cell_type": "markdown",
      "metadata": {
        "id": "fLIgqEQQvLyB"
      },
      "source": [
        "Basic Statistics Warmup"
      ]
    },
    {
      "cell_type": "code",
      "metadata": {
        "id": "DMMNxz3lvOPD"
      },
      "source": [
        "import numpy as np\r\n",
        "import math as m\r\n",
        "import statistics as stpy\r\n",
        "from scipy import stats\r\n",
        "\r\n",
        "def mean_confidence_interval(length, mean, stdev):\r\n",
        "    return 1.96 * (stdev / m.sqrt(length))\r\n",
        "\r\n",
        "total = int(input())\r\n",
        "numbers = list(map(int, input().split()))\r\n",
        "\r\n",
        "mean = np.mean(numbers)\r\n",
        "median = np.median(numbers)\r\n",
        "mode = int(stats.mode(numbers)[0])\r\n",
        "stdev = stpy.pstdev(numbers)\r\n",
        "confidence_interval = mean_confidence_interval(total, mean, stdev)\r\n",
        "min_confidence = round(mean - confidence_interval, 1)\r\n",
        "max_confidence = round(mean + confidence_interval, 1)\r\n",
        "\r\n",
        "print(round(mean,1))\r\n",
        "print(round(median,1))\r\n",
        "print(mode)\r\n",
        "print(round(stdev,1))\r\n",
        "print(\"{} {}\".format(min_confidence, max_confidence))"
      ],
      "execution_count": null,
      "outputs": []
    },
    {
      "cell_type": "markdown",
      "metadata": {
        "id": "z1hr92CLvRCo"
      },
      "source": [
        "Loops"
      ]
    },
    {
      "cell_type": "code",
      "metadata": {
        "id": "oGHCPIrWvTQo"
      },
      "source": [
        "n=int(input())\r\n",
        "for i in range(0,n):\r\n",
        "    print(i*i) "
      ],
      "execution_count": null,
      "outputs": []
    }
  ]
}