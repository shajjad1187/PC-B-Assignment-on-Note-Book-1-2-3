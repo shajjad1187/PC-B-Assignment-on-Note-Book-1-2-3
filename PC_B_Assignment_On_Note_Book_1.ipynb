{
  "nbformat": 4,
  "nbformat_minor": 0,
  "metadata": {
    "colab": {
      "name": "PC-B Assignment On Note Book-1.ipynb",
      "provenance": [],
      "collapsed_sections": [],
      "include_colab_link": true
    },
    "kernelspec": {
      "name": "python3",
      "display_name": "Python 3"
    }
  },
  "cells": [
    {
      "cell_type": "markdown",
      "metadata": {
        "id": "view-in-github",
        "colab_type": "text"
      },
      "source": [
        "<a href=\"https://colab.research.google.com/github/shajjad1187/PC-B-Assignment-on-Note-Book-1-2-3/blob/main/PC_B_Assignment_On_Note_Book_1.ipynb\" target=\"_parent\"><img src=\"https://colab.research.google.com/assets/colab-badge.svg\" alt=\"Open In Colab\"/></a>"
      ]
    },
    {
      "cell_type": "markdown",
      "metadata": {
        "id": "iiCiaaXcELTP"
      },
      "source": [
        "# 1.  **My Python First Program \"Print HeLLo World\"**"
      ]
    },
    {
      "cell_type": "code",
      "metadata": {
        "id": "yn78aObPDfNt",
        "outputId": "e05a132f-835c-440d-f8ee-415562c40a4d",
        "colab": {
          "base_uri": "https://localhost:8080/",
          "height": 34
        }
      },
      "source": [
        "print(\"Print HeLLo World\");"
      ],
      "execution_count": null,
      "outputs": [
        {
          "output_type": "stream",
          "text": [
            "Print HeLLo World\n"
          ],
          "name": "stdout"
        }
      ]
    },
    {
      "cell_type": "markdown",
      "metadata": {
        "id": "SKN5o8SbFz5y"
      },
      "source": [
        "# 2.1. **Variables and Assignment Statements**"
      ]
    },
    {
      "cell_type": "code",
      "metadata": {
        "id": "Crw-4_SeFy4Y",
        "outputId": "e6c694d4-cf4a-4d28-a0fd-0ba4187bff4f",
        "colab": {
          "base_uri": "https://localhost:8080/",
          "height": 51
        }
      },
      "source": [
        "X = 10;\n",
        "Y = 10;\n",
        "print(X+Y);\n",
        "total = X+Y;\n",
        "print(total);"
      ],
      "execution_count": null,
      "outputs": [
        {
          "output_type": "stream",
          "text": [
            "20\n",
            "20\n"
          ],
          "name": "stdout"
        }
      ]
    },
    {
      "cell_type": "markdown",
      "metadata": {
        "id": "AsDaSR-VHZH0"
      },
      "source": [
        "# **2.2. Variables and Assignment Statements.**"
      ]
    },
    {
      "cell_type": "code",
      "metadata": {
        "id": "zHyTqF-IG_BB",
        "outputId": "5a5cdf56-f9ff-428c-d705-c2061be92a33",
        "colab": {
          "base_uri": "https://localhost:8080/",
          "height": 34
        }
      },
      "source": [
        "String1 = \"Mst.Sadia\";\n",
        "String2 = \" Sultana\";\n",
        "StringAdd = String1+String2;\n",
        "print(StringAdd);"
      ],
      "execution_count": null,
      "outputs": [
        {
          "output_type": "stream",
          "text": [
            "Mst.Sadia Sultana\n"
          ],
          "name": "stdout"
        }
      ]
    },
    {
      "cell_type": "markdown",
      "metadata": {
        "id": "vl_A43x_IozL"
      },
      "source": [
        "# **3. Types**"
      ]
    },
    {
      "cell_type": "code",
      "metadata": {
        "id": "6cNq3gpNIn-4",
        "outputId": "44e38c26-cdf6-4ff1-9963-855cc9092513",
        "colab": {
          "base_uri": "https://localhost:8080/",
          "height": 34
        }
      },
      "source": [
        "number = 10;\n",
        "type(number)"
      ],
      "execution_count": null,
      "outputs": [
        {
          "output_type": "execute_result",
          "data": {
            "text/plain": [
              "int"
            ]
          },
          "metadata": {
            "tags": []
          },
          "execution_count": 13
        }
      ]
    },
    {
      "cell_type": "code",
      "metadata": {
        "id": "nnBtH-ILJwFp",
        "outputId": "96373303-04fc-40ad-d1c8-544c28a79cc8",
        "colab": {
          "base_uri": "https://localhost:8080/",
          "height": 34
        }
      },
      "source": [
        "type(10.5)"
      ],
      "execution_count": null,
      "outputs": [
        {
          "output_type": "execute_result",
          "data": {
            "text/plain": [
              "float"
            ]
          },
          "metadata": {
            "tags": []
          },
          "execution_count": 15
        }
      ]
    },
    {
      "cell_type": "markdown",
      "metadata": {
        "id": "PqU6Xh0VKgZN"
      },
      "source": [
        "# **4. Arithmetic operators .**"
      ]
    },
    {
      "cell_type": "code",
      "metadata": {
        "id": "J9lHyqM2KQwI",
        "outputId": "b7158558-6232-4efd-e637-e2efe64c6421",
        "colab": {
          "base_uri": "https://localhost:8080/",
          "height": 85
        }
      },
      "source": [
        "multiplication = 7*4;\n",
        "print(multiplication);\n",
        "\n",
        "add = 10+15;\n",
        "print(add);\n",
        "\n",
        "sub = 40-8;\n",
        "print(sub);\n",
        "\n",
        "Exponentiation = 2**10;\n",
        "print(Exponentiation);"
      ],
      "execution_count": null,
      "outputs": [
        {
          "output_type": "stream",
          "text": [
            "28\n",
            "25\n",
            "32\n",
            "1024\n"
          ],
          "name": "stdout"
        }
      ]
    },
    {
      "cell_type": "markdown",
      "metadata": {
        "id": "xmyx9MiOL0UV"
      },
      "source": [
        "# **5. True Division (/) vs. Floor Division (//).**"
      ]
    },
    {
      "cell_type": "code",
      "metadata": {
        "id": "vlr9-zFhLzPa",
        "outputId": "6057c832-fa0e-4471-bcd4-2eafafa7220b",
        "colab": {
          "base_uri": "https://localhost:8080/",
          "height": 170
        }
      },
      "source": [
        "True_Division = 7/4;\n",
        "print(True_Division);\n",
        "\n",
        "Floor_Division = 7//4;\n",
        "print(Floor_Division);\n",
        "\n",
        "remainder = 15%7;\n",
        "print(remainder);\n",
        "\n",
        "x = 105;\n",
        "y = 100;\n",
        "print(x>y);\n",
        "print(x<y);\n",
        "print(x==y);\n",
        "print(x<=y);\n",
        "print(x>=y);\n",
        "print(x!=y);"
      ],
      "execution_count": null,
      "outputs": [
        {
          "output_type": "stream",
          "text": [
            "1.75\n",
            "1\n",
            "1\n",
            "True\n",
            "False\n",
            "False\n",
            "False\n",
            "True\n",
            "True\n"
          ],
          "name": "stdout"
        }
      ]
    },
    {
      "cell_type": "markdown",
      "metadata": {
        "id": "38x6WeJfOd3W"
      },
      "source": [
        "# **6. Chaining Comparisons .**"
      ]
    },
    {
      "cell_type": "code",
      "metadata": {
        "id": "YbiuLDvjOc-m",
        "outputId": "1fec6a54-77d8-48e2-9d2e-eec26929a529",
        "colab": {
          "base_uri": "https://localhost:8080/",
          "height": 34
        }
      },
      "source": [
        "x = 3\n",
        "y = 10\n",
        "1 <= x <= 5"
      ],
      "execution_count": null,
      "outputs": [
        {
          "output_type": "execute_result",
          "data": {
            "text/plain": [
              "True"
            ]
          },
          "metadata": {
            "tags": []
          },
          "execution_count": 20
        }
      ]
    },
    {
      "cell_type": "code",
      "metadata": {
        "id": "f9c9Gt4WPPFr",
        "outputId": "3e7112b1-c4c8-469f-9678-158475bbebdd",
        "colab": {
          "base_uri": "https://localhost:8080/",
          "height": 34
        }
      },
      "source": [
        "1 <= y <= 5"
      ],
      "execution_count": null,
      "outputs": [
        {
          "output_type": "execute_result",
          "data": {
            "text/plain": [
              "False"
            ]
          },
          "metadata": {
            "tags": []
          },
          "execution_count": 21
        }
      ]
    },
    {
      "cell_type": "markdown",
      "metadata": {
        "id": "xjzLi-I0PYM_"
      },
      "source": [
        "# **7. Printing a Comma-Separated List of Items .**"
      ]
    },
    {
      "cell_type": "code",
      "metadata": {
        "id": "vVSoFMtEPWkz",
        "outputId": "1b776396-7d8d-4362-c8b8-1db6bb675b3b",
        "colab": {
          "base_uri": "https://localhost:8080/",
          "height": 34
        }
      },
      "source": [
        "print('Welcome', 'to', 'Python!')"
      ],
      "execution_count": null,
      "outputs": [
        {
          "output_type": "stream",
          "text": [
            "Welcome to Python!\n"
          ],
          "name": "stdout"
        }
      ]
    },
    {
      "cell_type": "markdown",
      "metadata": {
        "id": "IR4KGKicP4TR"
      },
      "source": [
        "# **8. Printing Many Lines of Text with One Statement .**"
      ]
    },
    {
      "cell_type": "code",
      "metadata": {
        "id": "hrKq5ZpGP3JE",
        "outputId": "a6ec9c7d-1b76-4a94-8ce7-a1eddd9cdcd3",
        "colab": {
          "base_uri": "https://localhost:8080/",
          "height": 68
        }
      },
      "source": [
        "print('Welcome\\nto\\nPython!')"
      ],
      "execution_count": null,
      "outputs": [
        {
          "output_type": "stream",
          "text": [
            "Welcome\n",
            "to\n",
            "Python!\n"
          ],
          "name": "stdout"
        }
      ]
    },
    {
      "cell_type": "markdown",
      "metadata": {
        "id": "7T5SYp_CQphf"
      },
      "source": [
        "# **9. Ignoring a Line Break in a Long String .**"
      ]
    },
    {
      "cell_type": "code",
      "metadata": {
        "id": "KrT0XwdWQamT",
        "outputId": "87faf692-e83d-4912-ab23-3b1a633771ac",
        "colab": {
          "base_uri": "https://localhost:8080/",
          "height": 34
        }
      },
      "source": [
        "print('this is a longer string, so we \\ split it over two lines')"
      ],
      "execution_count": null,
      "outputs": [
        {
          "output_type": "stream",
          "text": [
            "this is a longer string, so we \\ split it over two lines\n"
          ],
          "name": "stdout"
        }
      ]
    },
    {
      "cell_type": "markdown",
      "metadata": {
        "id": "Ic53kolBRQh3"
      },
      "source": [
        "# **10. Printing the Value of an Expression .**"
      ]
    },
    {
      "cell_type": "code",
      "metadata": {
        "id": "1DB-6PxQRH-p",
        "outputId": "0cc4e46c-d38c-43c2-c743-7e3688708ac5",
        "colab": {
          "base_uri": "https://localhost:8080/",
          "height": 34
        }
      },
      "source": [
        "print('Sum is', 7 + 3);"
      ],
      "execution_count": null,
      "outputs": [
        {
          "output_type": "stream",
          "text": [
            "Sum is 10\n"
          ],
          "name": "stdout"
        }
      ]
    },
    {
      "cell_type": "markdown",
      "metadata": {
        "id": "7CN9RjLqRk_y"
      },
      "source": [
        "# **11. What does the following print statement display?**"
      ]
    },
    {
      "cell_type": "code",
      "metadata": {
        "id": "rwU6th57RjvJ",
        "outputId": "eb6c96ae-0518-4366-88ca-b902fbcc471c",
        "colab": {
          "base_uri": "https://localhost:8080/",
          "height": 34
        }
      },
      "source": [
        "print('int(5.2)', 'truncates 5.2 to', int(5.2))"
      ],
      "execution_count": null,
      "outputs": [
        {
          "output_type": "stream",
          "text": [
            "int(5.2) truncates 5.2 to 5\n"
          ],
          "name": "stdout"
        }
      ]
    },
    {
      "cell_type": "markdown",
      "metadata": {
        "id": "S_K4SIbES-M3"
      },
      "source": [
        "# **12 . Including Quotes in Strings .**"
      ]
    },
    {
      "cell_type": "code",
      "metadata": {
        "id": "9oeEIl2SR4Tt",
        "outputId": "511eb39b-a319-4850-aa15-d04797b55d06",
        "colab": {
          "base_uri": "https://localhost:8080/",
          "height": 85
        }
      },
      "source": [
        "print('Display \"hi\" in quotes');\n",
        "print('Display \\'hi\\' in quotes'); #using the \\' escape sequence:\n",
        "print(\"Display the name O'Brien\");\n",
        "print(\"Display \\\"hi\\\" in quotes\");"
      ],
      "execution_count": null,
      "outputs": [
        {
          "output_type": "stream",
          "text": [
            "Display \"hi\" in quotes\n",
            "Display 'hi' in quotes\n",
            "Display the name O'Brien\n",
            "Display \"hi\" in quotes\n"
          ],
          "name": "stdout"
        }
      ]
    },
    {
      "cell_type": "markdown",
      "metadata": {
        "id": "5uzAJYTdUeTS"
      },
      "source": [
        "# **13. To avoid using ' and \" inside strings, you can enclose such strings in triple quotes :**"
      ]
    },
    {
      "cell_type": "code",
      "metadata": {
        "id": "dhKtcSyRTJp_",
        "outputId": "55a85375-2d9f-4ac4-f918-cdfb591c816b",
        "colab": {
          "base_uri": "https://localhost:8080/",
          "height": 34
        }
      },
      "source": [
        "print(\"\"\"Display \"hi\" and 'bye' in quotes\"\"\");"
      ],
      "execution_count": null,
      "outputs": [
        {
          "output_type": "stream",
          "text": [
            "Display \"hi\" and 'bye' in quotes\n"
          ],
          "name": "stdout"
        }
      ]
    },
    {
      "cell_type": "markdown",
      "metadata": {
        "id": "v8xDyvNlVTOh"
      },
      "source": [
        "# **14 . Multiline Strings .**"
      ]
    },
    {
      "cell_type": "code",
      "metadata": {
        "id": "e0pWcHpoVSF7",
        "outputId": "5de186ab-cfc5-44d7-942a-a0b51e717432",
        "colab": {
          "base_uri": "https://localhost:8080/",
          "height": 34
        }
      },
      "source": [
        "triple_quoted_string = \"\"\"This is a triple-quoted string that spans two lines\"\"\";\n",
        "print(triple_quoted_string);"
      ],
      "execution_count": null,
      "outputs": [
        {
          "output_type": "stream",
          "text": [
            "This is a triple-quoted string that spans two lines\n"
          ],
          "name": "stdout"
        }
      ]
    },
    {
      "cell_type": "code",
      "metadata": {
        "id": "qyckHQ1DV8wk",
        "outputId": "ead7b944-76a0-441a-8a7a-066fee44c6e5",
        "colab": {
          "base_uri": "https://localhost:8080/",
          "height": 34
        }
      },
      "source": [
        "print(\"\"\"This is a lengthy multiline string containing a few lines \\ of text\"\"\");"
      ],
      "execution_count": null,
      "outputs": [
        {
          "output_type": "stream",
          "text": [
            "This is a lengthy multiline string containing a few lines \\ of text\n"
          ],
          "name": "stdout"
        }
      ]
    },
    {
      "cell_type": "markdown",
      "metadata": {
        "id": "GUVvVRSbAu6k"
      },
      "source": [
        "# **15. Precision Handling in Python .**"
      ]
    },
    {
      "cell_type": "code",
      "metadata": {
        "id": "wk72BQjm9q2c",
        "outputId": "397ee95b-c420-40ad-df93-9a2cb46f9f7a",
        "colab": {
          "base_uri": "https://localhost:8080/",
          "height": 51
        }
      },
      "source": [
        "a = 3.4536475856\n",
        "\n",
        "# using \"%\" to print value till 2 decimal places\n",
        "print (\"The value of number till 2 decimal place(using %) is : \",end=\"\");\n",
        "print ('%.2f' %a);\n",
        "\n",
        "# using \"%\" to print value till 4 decimal places\n",
        "print (\"The value of number till 2 decimal place(using %) is : \",end=\"\");\n",
        "print ('%.4f' %a);"
      ],
      "execution_count": null,
      "outputs": [
        {
          "output_type": "stream",
          "text": [
            "The value of number till 2 decimal place(using %) is : 3.45\n",
            "The value of number till 2 decimal place(using %) is : 3.4536\n"
          ],
          "name": "stdout"
        }
      ]
    },
    {
      "cell_type": "markdown",
      "metadata": {
        "id": "WANbP4OPCM7O"
      },
      "source": [
        "# **16. Getting Input from the User .**"
      ]
    },
    {
      "cell_type": "code",
      "metadata": {
        "id": "RS63PAncB1Q0",
        "outputId": "0766c6af-9940-4056-8965-73b4dbf97cad",
        "colab": {
          "base_uri": "https://localhost:8080/",
          "height": 51
        }
      },
      "source": [
        "#The built-in input function requests and obtains user input:\n",
        "\n",
        "name = input(\"What's your name? \");\n",
        "print(name);"
      ],
      "execution_count": null,
      "outputs": [
        {
          "output_type": "stream",
          "text": [
            "What's your name? Afzal\n",
            "Afzal\n"
          ],
          "name": "stdout"
        }
      ]
    },
    {
      "cell_type": "code",
      "metadata": {
        "id": "zoFpcfiDD2H5",
        "outputId": "02143291-6680-4f00-b0e4-3378e315ee94",
        "colab": {
          "base_uri": "https://localhost:8080/",
          "height": 85
        }
      },
      "source": [
        "value1 = input(\"Enter The First Number: \");\n",
        "value2 = input(\"Enter Second number: \");\n",
        "total = value1 + value2;\n",
        "print(total);\n",
        "\n",
        "type(total) #python takes input as a string we have to type cast the input."
      ],
      "execution_count": null,
      "outputs": [
        {
          "output_type": "stream",
          "text": [
            "Enter The First Number: 30\n",
            "Enter Second number: 40\n",
            "3040\n"
          ],
          "name": "stdout"
        },
        {
          "output_type": "execute_result",
          "data": {
            "text/plain": [
              "str"
            ]
          },
          "metadata": {
            "tags": []
          },
          "execution_count": 10
        }
      ]
    },
    {
      "cell_type": "code",
      "metadata": {
        "id": "-jMJlGXjFrFn",
        "outputId": "93280649-d2e5-4d36-f977-b67c30710b8e",
        "colab": {
          "base_uri": "https://localhost:8080/",
          "height": 34
        }
      },
      "source": [
        "total = int(value1) + int(value2); #type casting to int format.\n",
        "print(total);"
      ],
      "execution_count": null,
      "outputs": [
        {
          "output_type": "stream",
          "text": [
            "70\n"
          ],
          "name": "stdout"
        }
      ]
    },
    {
      "cell_type": "markdown",
      "metadata": {
        "id": "0yTUQCqGF9SO"
      },
      "source": [
        "# 17. Getting an Integer from the User by casting the input format ."
      ]
    },
    {
      "cell_type": "code",
      "metadata": {
        "id": "vjBagngEF8Ek",
        "outputId": "29d93094-7b5d-4c11-e03d-bd90e243a884",
        "colab": {
          "base_uri": "https://localhost:8080/",
          "height": 51
        }
      },
      "source": [
        "intvalue = int(input('Enter The integer value: '));\n",
        "print(intvalue);"
      ],
      "execution_count": null,
      "outputs": [
        {
          "output_type": "stream",
          "text": [
            "Enter The integer value: 10\n",
            "10\n"
          ],
          "name": "stdout"
        }
      ]
    },
    {
      "cell_type": "markdown",
      "metadata": {
        "id": "PPscIbIsHNSn"
      },
      "source": [
        "# **18. Taking multiple input from the user .**"
      ]
    },
    {
      "cell_type": "code",
      "metadata": {
        "id": "F48HbP91HJ0R",
        "outputId": "e8743f1a-b3d7-4a72-9b44-aabeb871a0bd",
        "colab": {
          "base_uri": "https://localhost:8080/",
          "height": 68
        }
      },
      "source": [
        "a, b = input().split();\n",
        "print(a , b);\n",
        "print(type(a));"
      ],
      "execution_count": null,
      "outputs": [
        {
          "output_type": "stream",
          "text": [
            "10 20\n",
            "10 20\n",
            "<class 'str'>\n"
          ],
          "name": "stdout"
        }
      ]
    },
    {
      "cell_type": "markdown",
      "metadata": {
        "id": "3NzkOE58LJaG"
      },
      "source": [
        "# **Min number and Max number .**"
      ]
    },
    {
      "cell_type": "code",
      "metadata": {
        "id": "oGVJzX1lIIoG",
        "outputId": "6a47c9f9-bff0-4ff5-d0c4-b8fd0c991ea6",
        "colab": {
          "base_uri": "https://localhost:8080/",
          "height": 102
        }
      },
      "source": [
        "number1 = int(input('Enter first integer: '));\n",
        "number2 = int(input('Enter second integer: '));\n",
        "number3 = int(input('Enter third integer: '));\n",
        "\n",
        "min1 = (number1,number2,number3);\n",
        "print(min(min1));\n",
        "max1 = (number1,number2,number3);\n",
        "print(max(max1));"
      ],
      "execution_count": null,
      "outputs": [
        {
          "output_type": "stream",
          "text": [
            "Enter first integer: 20\n",
            "Enter second integer: 50\n",
            "Enter third integer: 100\n",
            "20\n",
            "100\n"
          ],
          "name": "stdout"
        }
      ]
    },
    {
      "cell_type": "markdown",
      "metadata": {
        "id": "cYKzOQn6MZkh"
      },
      "source": [
        "# **Exercises - 01:**"
      ]
    },
    {
      "cell_type": "code",
      "metadata": {
        "id": "MZOTSyitMYp1",
        "outputId": "5002bf5f-bbe4-4290-8257-38cc88fa688e",
        "colab": {
          "base_uri": "https://localhost:8080/",
          "height": 85
        }
      },
      "source": [
        "#Create the variables x = 2 and y = 3, then determine what each of the following statements displays:\n",
        "\n",
        "x = 2;\n",
        "y = 3;\n",
        "print('x =', x)\n",
        "\n",
        "print('Value of', x, '+', x, 'is', (x +x))\n",
        "print('x =')\n",
        "\n",
        "print((x + y), '=', (y + x))"
      ],
      "execution_count": null,
      "outputs": [
        {
          "output_type": "stream",
          "text": [
            "x = 2\n",
            "Value of 2 + 2 is 4\n",
            "x =\n",
            "5 = 5\n"
          ],
          "name": "stdout"
        }
      ]
    }
  ]
}